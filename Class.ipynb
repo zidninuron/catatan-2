{
 "cells": [
  {
   "cell_type": "markdown",
   "metadata": {
    "collapsed": false
   },
   "source": [
    "# <font color=blue>Class</font>\n",
    "\n",
    "Tipe data class ada bautan sendiri disana tidak hanya berupa nilai saja, tetapi ad juga namanya fungsi.\n"
   ]
  },
  {
   "cell_type": "markdown",
   "metadata": {
    "collapsed": false
   },
   "source": [
    "<b>istilah dalam pemrograman:</b><br>\n",
    "    class = tidak hanya berupa state atau property,tetapi juga berisi method.<br>\n",
    "    object= suatu variabel dengan tipe data class (instnce).<br>\n",
    "    state/property=bagian data dalam suatu class.<br>\n",
    "    method=fungsi didalam class."
   ]
  },
  {
   "cell_type": "raw",
   "metadata": {
    "collapsed": false
   },
   "source": [
    "constructor:\n",
    "def __init__()"
   ]
  },
  {
   "cell_type": "markdown",
   "metadata": {
    "collapsed": false
   },
   "source": [
    "contoh:<br>\n",
    "    5+7i(matematika bilangan kompleks)<br>\n",
    "    \n",
    "proses class namanya INSTANSIASI.<br>\n",
    "yang dii eksekusi adalah bilngan construktor<br>\n",
    "contoh cara memanggil:<br>\n",
    "(5,7)\n"
   ]
  },
  {
   "cell_type": "code",
   "execution_count": 0,
   "metadata": {
    "collapsed": false
   },
   "outputs": [
   ],
   "source": [
    "class bilanganKompleks:\n",
    "    def __init__(self,a,b):\n",
    "        self.real=a\n",
    "        self.im=b\n",
    "    def display(self):\n",
    "        #print(self.real,'+',self.im,'i')\n",
    "        temp=str(self.real)+ '+'+str(self.im)+'i'\n",
    "        "
   ]
  },
  {
   "cell_type": "code",
   "execution_count": 0,
   "metadata": {
    "collapsed": false
   },
   "outputs": [
   ],
   "source": [
    "data=BilanganKompleks(5,7)\n",
    "print(data.display())"
   ]
  },
  {
   "cell_type": "code",
   "execution_count": 0,
   "metadata": {
    "collapsed": false
   },
   "outputs": [
   ],
   "source": [
    "b=7.5\n",
    "c=[3,4,59,1]\n",
    "print(c)"
   ]
  },
  {
   "cell_type": "markdown",
   "metadata": {
    "collapsed": false
   },
   "source": [
   ]
  }
 ],
 "metadata": {
  "kernelspec": {
   "display_name": "Python 3 (Ubuntu Linux)",
   "language": "python",
   "name": "python3"
  }
 },
 "nbformat": 4,
 "nbformat_minor": 0
}
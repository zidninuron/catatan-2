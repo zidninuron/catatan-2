{
 "cells": [
  {
   "cell_type": "markdown",
   "metadata": {
    "collapsed": false
   },
   "source": [
    "# <font color=blue>Deques</font>\n",
    "\n",
    "Deque adalah sebuah class yang bisa disebut juga sebagai antrian sepertihalnya Queue, akantetapi berbeda dengan Queue yang hanya bisa menambah dan mengurangi ddata dari satu sisi saja yaitu dari sisi depan ataupun belakang.sedangkan Deque bisa menambah atau mengurangi data dari depan ataupun belangakng."
   ]
  },
  {
   "cell_type": "markdown",
   "metadata": {
    "collapsed": false
   },
   "source": [
    "<b>Class dequeue:</b><br>\n",
    "    - duque()=membuat deque baru(kosong).<br>\n",
    "    -addFront(data)=untuk menambah suatu data baru dari depan .<br>\n",
    "    -addRear(data)=untuk menambah data dari sisi belakang.<br>\n",
    "    -removeFront()=untuk menghapus data dari depan.<br>\n",
    "    -removeRear()=untuk emenghapus data dari belakang.<br>\n",
    "    -isEmpty()=untuk mengetahui apkah deque dalam ke adaan berisi atau kosong.<br>\n",
    "    -size()=untuk mengetahui jumlah isi yang ada dalam deque<br>\n",
    "    "
   ]
  },
  {
   "cell_type": "code",
   "execution_count": 0,
   "metadata": {
    "collapsed": false
   },
   "outputs": [
   ],
   "source": [
    "class dequeue:\n",
    "    def crerateDeque():\n",
    "        d=[]\n",
    "        return(d)\n",
    "    def addFront(d,data):\n",
    "        d.insert(0,data)\n",
    "        return(d)\n",
    "    def addRear(d,data):\n",
    "        d.append(data)\n",
    "        return(d)\n",
    "    def removeRear(d):\n",
    "        data=d.pop()\n",
    "        return(data)\n",
    "    def removeFront(d):\n",
    "        data=s.pop()\n",
    "        return (data)\n",
    "    def isempty(d):\n",
    "        return(d==[])\n",
    "    def size(d):\n",
    "        return(d)\n"
   ]
  },
  {
   "cell_type": "code",
   "execution_count": 0,
   "metadata": {
    "collapsed": false
   },
   "outputs": [
   ],
   "source": [
   ]
  }
 ],
 "metadata": {
  "kernelspec": {
   "display_name": "Python 3 (Ubuntu Linux)",
   "language": "python",
   "name": "python3"
  },
  "language_info": {
   "codemirror_mode": {
    "name": "ipython",
    "version": 3
   },
   "file_extension": ".py",
   "mimetype": "text/x-python",
   "name": "python",
   "nbconvert_exporter": "python",
   "pygments_lexer": "ipython3",
   "version": "3.6.7"
  }
 },
 "nbformat": 4,
 "nbformat_minor": 0
}